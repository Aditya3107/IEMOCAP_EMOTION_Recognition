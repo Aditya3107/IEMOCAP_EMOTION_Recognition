{
 "cells": [
  {
   "cell_type": "code",
   "execution_count": 1,
   "metadata": {},
   "outputs": [],
   "source": [
    " import pandas as pd"
   ]
  },
  {
   "cell_type": "code",
   "execution_count": 2,
   "metadata": {},
   "outputs": [],
   "source": [
    "df = pd.read_csv('/home/mds-student/Documents/aDITYA/multimodal-speech-emotion-recognition-master/Preprocessing/pickle_to_subset/pickle_to_subset_1.csv')"
   ]
  },
  {
   "cell_type": "code",
   "execution_count": null,
   "metadata": {},
   "outputs": [],
   "source": []
  },
  {
   "cell_type": "code",
   "execution_count": 3,
   "metadata": {},
   "outputs": [],
   "source": [
    "df = df.sample(frac=1).reset_index(drop = True)"
   ]
  },
  {
   "cell_type": "code",
   "execution_count": 4,
   "metadata": {},
   "outputs": [],
   "source": [
    "df = df.sort_values(by = ['emotion'])"
   ]
  },
  {
   "cell_type": "code",
   "execution_count": 5,
   "metadata": {},
   "outputs": [],
   "source": [
    "N = df['emotion'].eq('hap').sum()\n",
    "df = df.sort_values('emotion').groupby('emotion').head(N)"
   ]
  },
  {
   "cell_type": "code",
   "execution_count": null,
   "metadata": {},
   "outputs": [],
   "source": []
  },
  {
   "cell_type": "code",
   "execution_count": 6,
   "metadata": {},
   "outputs": [],
   "source": [
    "df1 = pd.read_csv('/home/mds-student/Documents/aDITYA/multimodal-speech-emotion-recognition-master/Preprocessing/pickle_to_subset/pickle_to_subset_2.csv')"
   ]
  },
  {
   "cell_type": "code",
   "execution_count": 7,
   "metadata": {},
   "outputs": [],
   "source": [
    "df1 = df1.sample(frac=1).reset_index(drop = True)"
   ]
  },
  {
   "cell_type": "code",
   "execution_count": 8,
   "metadata": {},
   "outputs": [],
   "source": [
    "df1 = df1.sort_values(by = ['emotion'])"
   ]
  },
  {
   "cell_type": "code",
   "execution_count": 9,
   "metadata": {},
   "outputs": [],
   "source": [
    "N = df1['emotion'].eq('hap').sum()\n",
    "df1 = df1.sort_values('emotion').groupby('emotion').head(N)"
   ]
  },
  {
   "cell_type": "code",
   "execution_count": null,
   "metadata": {},
   "outputs": [],
   "source": []
  },
  {
   "cell_type": "code",
   "execution_count": 10,
   "metadata": {},
   "outputs": [],
   "source": [
    "df2 = pd.read_csv('/home/mds-student/Documents/aDITYA/multimodal-speech-emotion-recognition-master/Preprocessing/pickle_to_subset/pickle_to_subset_3.csv')"
   ]
  },
  {
   "cell_type": "code",
   "execution_count": 11,
   "metadata": {},
   "outputs": [],
   "source": [
    "df2 = df2.sample(frac=1).reset_index(drop = True)"
   ]
  },
  {
   "cell_type": "code",
   "execution_count": 12,
   "metadata": {},
   "outputs": [],
   "source": [
    "df2 = df2.sort_values(by = ['emotion'])"
   ]
  },
  {
   "cell_type": "code",
   "execution_count": 13,
   "metadata": {},
   "outputs": [],
   "source": [
    "N = df2['emotion'].eq('hap').sum()\n",
    "df2 = df2.sort_values('emotion').groupby('emotion').head(N)"
   ]
  },
  {
   "cell_type": "code",
   "execution_count": null,
   "metadata": {},
   "outputs": [],
   "source": []
  },
  {
   "cell_type": "code",
   "execution_count": 14,
   "metadata": {},
   "outputs": [],
   "source": [
    "df3 = pd.read_csv('/home/mds-student/Documents/aDITYA/multimodal-speech-emotion-recognition-master/Preprocessing/pickle_to_subset/pickle_to_subset_4.csv')"
   ]
  },
  {
   "cell_type": "code",
   "execution_count": 15,
   "metadata": {},
   "outputs": [],
   "source": [
    "df3 = df3.sample(frac=1).reset_index(drop = True)"
   ]
  },
  {
   "cell_type": "code",
   "execution_count": 16,
   "metadata": {},
   "outputs": [],
   "source": [
    "df3 = df3.sort_values(by = ['emotion'])"
   ]
  },
  {
   "cell_type": "code",
   "execution_count": 17,
   "metadata": {},
   "outputs": [],
   "source": [
    "N = df3['emotion'].eq('hap').sum()\n",
    "df3 = df3.sort_values('emotion').groupby('emotion').head(N)"
   ]
  },
  {
   "cell_type": "code",
   "execution_count": null,
   "metadata": {},
   "outputs": [],
   "source": []
  },
  {
   "cell_type": "code",
   "execution_count": 18,
   "metadata": {},
   "outputs": [],
   "source": [
    "df4 = pd.read_csv('/home/mds-student/Documents/aDITYA/multimodal-speech-emotion-recognition-master/Preprocessing/pickle_to_subset/pickle_to_subset_5.csv')"
   ]
  },
  {
   "cell_type": "code",
   "execution_count": 19,
   "metadata": {},
   "outputs": [],
   "source": [
    "df4 = df4.sample(frac=1).reset_index(drop = True)"
   ]
  },
  {
   "cell_type": "code",
   "execution_count": 20,
   "metadata": {},
   "outputs": [],
   "source": [
    "df4 = df4.sort_values(by = ['emotion'])"
   ]
  },
  {
   "cell_type": "code",
   "execution_count": 21,
   "metadata": {},
   "outputs": [],
   "source": [
    "N = df4['emotion'].eq('hap').sum()\n",
    "df4 = df4.sort_values('emotion').groupby('emotion').head(N)"
   ]
  },
  {
   "cell_type": "code",
   "execution_count": null,
   "metadata": {},
   "outputs": [],
   "source": []
  },
  {
   "cell_type": "code",
   "execution_count": 22,
   "metadata": {},
   "outputs": [],
   "source": [
    "final_df = pd.concat([df,df1,df2,df3,df4], ignore_index=True)"
   ]
  },
  {
   "cell_type": "code",
   "execution_count": 23,
   "metadata": {},
   "outputs": [
    {
     "data": {
      "text/plain": [
       "(2380, 3)"
      ]
     },
     "execution_count": 23,
     "metadata": {},
     "output_type": "execute_result"
    }
   ],
   "source": [
    "final_df.shape"
   ]
  },
  {
   "cell_type": "code",
   "execution_count": 25,
   "metadata": {},
   "outputs": [
    {
     "data": {
      "text/plain": [
       "ang    595\n",
       "hap    595\n",
       "neu    595\n",
       "sad    595\n",
       "Name: emotion, dtype: int64"
      ]
     },
     "execution_count": 25,
     "metadata": {},
     "output_type": "execute_result"
    }
   ],
   "source": [
    "final_df.emotion.value_counts()"
   ]
  },
  {
   "cell_type": "code",
   "execution_count": 26,
   "metadata": {},
   "outputs": [],
   "source": [
    "final_df.to_csv('final_df.csv')"
   ]
  },
  {
   "cell_type": "code",
   "execution_count": 14,
   "metadata": {},
   "outputs": [],
   "source": [
    "#sklearn\n",
    "from sklearn.metrics import confusion_matrix, accuracy_score, classification_report\n",
    "from sklearn.model_selection import train_test_split\n",
    "from sklearn.preprocessing import LabelEncoder"
   ]
  },
  {
   "cell_type": "code",
   "execution_count": 1,
   "metadata": {},
   "outputs": [],
   "source": [
    "import pandas as pd\n",
    "from sklearn import model_selection"
   ]
  },
  {
   "cell_type": "code",
   "execution_count": 6,
   "metadata": {},
   "outputs": [],
   "source": [
    "df = pd.read_csv('final_df_stra_fold.csv',low_memory=True)"
   ]
  },
  {
   "cell_type": "code",
   "execution_count": null,
   "metadata": {},
   "outputs": [],
   "source": []
  },
  {
   "cell_type": "code",
   "execution_count": null,
   "metadata": {},
   "outputs": [],
   "source": []
  },
  {
   "cell_type": "code",
   "execution_count": 96,
   "metadata": {},
   "outputs": [],
   "source": [
    "import librosa\n",
    "import ast\n",
    "import numpy as np\n",
    "import tqdm\n",
    "from tqdm import tqdm\n"
   ]
  },
  {
   "cell_type": "code",
   "execution_count": 97,
   "metadata": {},
   "outputs": [],
   "source": [
    "X_train, X_test, y_train, y_test = train_test_split(df, df.emotion, test_size = 0.20, shuffle = True, random_state = 42)"
   ]
  },
  {
   "cell_type": "code",
   "execution_count": null,
   "metadata": {},
   "outputs": [],
   "source": []
  },
  {
   "cell_type": "code",
   "execution_count": 98,
   "metadata": {},
   "outputs": [
    {
     "name": "stderr",
     "output_type": "stream",
     "text": [
      "1904it [32:46,  1.03s/it]\n"
     ]
    }
   ],
   "source": [
    "X_train_features = pd.DataFrame(columns = ['features'])\n",
    "counter = 0\n",
    "sample_rate = 44100\n",
    "sample_rate = np.array(sample_rate)\n",
    "for index,audio_vector in tqdm(enumerate(X_train.audio_vector)):\n",
    "    res = ast.literal_eval(audio_vector)\n",
    "    res = np.asarray(res)\n",
    "    res = res.astype('float32')\n",
    "    S = librosa.feature.melspectrogram(y = res, sr = sample_rate, n_mels=256,hop_length=128,fmax=8000)\n",
    "    S_2 = np.mean(librosa.power_to_db(S, ref=np.max),axis = 0)\n",
    "    X_train_features.loc[counter] = [S_2]\n",
    "    counter = counter+1\n",
    "X_train_features = (pd.DataFrame(X_train_features['features']. values.tolist())).fillna(0)"
   ]
  },
  {
   "cell_type": "code",
   "execution_count": 99,
   "metadata": {
    "scrolled": true
   },
   "outputs": [
    {
     "name": "stderr",
     "output_type": "stream",
     "text": [
      "476it [07:46,  1.02it/s]\n"
     ]
    }
   ],
   "source": [
    "X_test_features = pd.DataFrame(columns = ['features'])\n",
    "counter = 0\n",
    "sample_rate = 44100\n",
    "sample_rate = np.array(sample_rate)\n",
    "for index,audio_vector in tqdm(enumerate(X_test.audio_vector)):\n",
    "    res = ast.literal_eval(audio_vector)\n",
    "    res = np.asarray(res)\n",
    "    res = res.astype('float32')\n",
    "    S = librosa.feature.melspectrogram(y = res, sr = sample_rate, n_mels=256,hop_length=128,fmax=8000)\n",
    "    S_2 = np.mean(librosa.power_to_db(S, ref=np.max),axis = 0)\n",
    "    X_test_features.loc[counter] = [S_2]\n",
    "    counter = counter+1\n",
    "X_test_features = (pd.DataFrame(X_test_features['features']. values.tolist())).fillna(0)"
   ]
  },
  {
   "cell_type": "code",
   "execution_count": 100,
   "metadata": {},
   "outputs": [],
   "source": [
    "mean = np.mean(X_train_features, axis=0)\n",
    "std = np.std(X_train_features, axis=0)\n",
    "\n",
    "X_train_features = ((X_train_features - mean)/std).fillna(0)\n",
    "\n",
    "X_test_features = ((X_test_features - mean)/std).fillna(0)"
   ]
  },
  {
   "cell_type": "code",
   "execution_count": 101,
   "metadata": {},
   "outputs": [],
   "source": [
    "X_train = np.array(X_train_features)\n",
    "y_train = np.array(y_train)\n",
    "X_test = np.array(X_test_features)\n",
    "y_test = np.array(y_test)"
   ]
  },
  {
   "cell_type": "code",
   "execution_count": 102,
   "metadata": {},
   "outputs": [],
   "source": [
    "lb = LabelEncoder()\n",
    "y_train = np_utils.to_categorical(lb.fit_transform(y_train))\n",
    "y_test = np_utils.to_categorical(lb.fit_transform(y_test))"
   ]
  },
  {
   "cell_type": "code",
   "execution_count": 103,
   "metadata": {},
   "outputs": [],
   "source": [
    "#FOR CREATING MODEL IMPORT LIBS\n",
    "# Keras\n",
    "import keras\n",
    "from keras import regularizers\n",
    "from keras.preprocessing import sequence\n",
    "from keras.preprocessing.text import Tokenizer\n",
    "from keras.preprocessing.sequence import pad_sequences\n",
    "from keras.models import Sequential, Model, model_from_json\n",
    "from keras.layers import Dense, Embedding, LSTM\n",
    "from keras.layers import Input, Flatten, Dropout, Activation, BatchNormalization\n",
    "from keras.layers import Conv1D, MaxPooling1D, AveragePooling1D\n",
    "from keras.utils import np_utils, to_categorical\n",
    "from keras.callbacks import ModelCheckpoint\n",
    "\n",
    "#sklearn\n",
    "from sklearn.metrics import confusion_matrix, accuracy_score, classification_report\n",
    "from sklearn.model_selection import train_test_split\n",
    "from sklearn.preprocessing import LabelEncoder"
   ]
  },
  {
   "cell_type": "code",
   "execution_count": null,
   "metadata": {},
   "outputs": [],
   "source": []
  },
  {
   "cell_type": "code",
   "execution_count": 104,
   "metadata": {},
   "outputs": [],
   "source": [
    "import pickle\n",
    "\n",
    "#pickle lb object for future use\n",
    "filename = 'labels'\n",
    "outfile = open(filename, 'wb')\n",
    "pickle.dump(lb,outfile)\n",
    "outfile.close()\n",
    "\n",
    "X_train = np.expand_dims(X_train, axis = 2)\n",
    "X_test = np.expand_dims(X_test, axis = 2)"
   ]
  },
  {
   "cell_type": "code",
   "execution_count": null,
   "metadata": {},
   "outputs": [],
   "source": []
  },
  {
   "cell_type": "code",
   "execution_count": null,
   "metadata": {},
   "outputs": [],
   "source": []
  },
  {
   "cell_type": "code",
   "execution_count": null,
   "metadata": {},
   "outputs": [],
   "source": []
  },
  {
   "cell_type": "code",
   "execution_count": 111,
   "metadata": {},
   "outputs": [
    {
     "name": "stdout",
     "output_type": "stream",
     "text": [
      "Model: \"sequential_2\"\n",
      "_________________________________________________________________\n",
      "Layer (type)                 Output Shape              Param #   \n",
      "=================================================================\n",
      "conv1d_10 (Conv1D)           (None, 10994, 256)        2304      \n",
      "_________________________________________________________________\n",
      "activation_12 (Activation)   (None, 10994, 256)        0         \n",
      "_________________________________________________________________\n",
      "conv1d_11 (Conv1D)           (None, 10994, 256)        524544    \n",
      "_________________________________________________________________\n",
      "batch_normalization_4 (Batch (None, 10994, 256)        1024      \n",
      "_________________________________________________________________\n",
      "activation_13 (Activation)   (None, 10994, 256)        0         \n",
      "_________________________________________________________________\n",
      "dropout_4 (Dropout)          (None, 10994, 256)        0         \n",
      "_________________________________________________________________\n",
      "max_pooling1d_4 (MaxPooling1 (None, 1374, 256)         0         \n",
      "_________________________________________________________________\n",
      "conv1d_12 (Conv1D)           (None, 1374, 128)         262272    \n",
      "_________________________________________________________________\n",
      "batch_normalization_5 (Batch (None, 1374, 128)         512       \n",
      "_________________________________________________________________\n",
      "activation_14 (Activation)   (None, 1374, 128)         0         \n",
      "_________________________________________________________________\n",
      "dropout_5 (Dropout)          (None, 1374, 128)         0         \n",
      "_________________________________________________________________\n",
      "max_pooling1d_5 (MaxPooling1 (None, 171, 128)          0         \n",
      "_________________________________________________________________\n",
      "conv1d_13 (Conv1D)           (None, 171, 64)           65600     \n",
      "_________________________________________________________________\n",
      "activation_15 (Activation)   (None, 171, 64)           0         \n",
      "_________________________________________________________________\n",
      "conv1d_14 (Conv1D)           (None, 171, 64)           32832     \n",
      "_________________________________________________________________\n",
      "activation_16 (Activation)   (None, 171, 64)           0         \n",
      "_________________________________________________________________\n",
      "flatten_2 (Flatten)          (None, 10944)             0         \n",
      "_________________________________________________________________\n",
      "dense_2 (Dense)              (None, 4)                 43780     \n",
      "_________________________________________________________________\n",
      "activation_17 (Activation)   (None, 4)                 0         \n",
      "=================================================================\n",
      "Total params: 932,868\n",
      "Trainable params: 932,100\n",
      "Non-trainable params: 768\n",
      "_________________________________________________________________\n"
     ]
    }
   ],
   "source": [
    "# New model\n",
    "model = Sequential()\n",
    "model.add(Conv1D(256, 8, padding='same',input_shape=(X_train.shape[1],1)))  # X_train.shape[1] = No. of Columns\n",
    "model.add(Activation('relu'))\n",
    "model.add(Conv1D(256, 8, padding='same'))\n",
    "model.add(BatchNormalization())\n",
    "model.add(Activation('relu'))\n",
    "model.add(Dropout(0.25))\n",
    "model.add(MaxPooling1D(pool_size=(8)))\n",
    "model.add(Conv1D(128, 8, padding='same'))\n",
    "model.add(BatchNormalization())\n",
    "model.add(Activation('relu'))\n",
    "model.add(Dropout(0.25))\n",
    "model.add(MaxPooling1D(pool_size=(8)))\n",
    "model.add(Conv1D(64, 8, padding='same'))\n",
    "model.add(Activation('relu'))\n",
    "model.add(Conv1D(64, 8, padding='same'))\n",
    "model.add(Activation('relu'))\n",
    "model.add(Flatten())\n",
    "model.add(Dense(4)) # Target class number\n",
    "model.add(Activation('softmax'))\n",
    "# opt = keras.optimizers.SGD(lr=0.0001, momentum=0.0, decay=0.0, nesterov=False)\n",
    "# opt = keras.optimizers.Adam(lr=0.0001)\n",
    "opt = keras.optimizers.RMSprop(lr=0.00001, decay=1e-6)\n",
    "model.summary()"
   ]
  },
  {
   "cell_type": "code",
   "execution_count": 112,
   "metadata": {},
   "outputs": [
    {
     "name": "stdout",
     "output_type": "stream",
     "text": [
      "Epoch 1/100\n",
      "119/119 [==============================] - 809s 7s/step - loss: 1.4056 - accuracy: 0.3167 - val_loss: 1.3867 - val_accuracy: 0.2584\n",
      "Epoch 2/100\n",
      "119/119 [==============================] - 788s 7s/step - loss: 1.3197 - accuracy: 0.3718 - val_loss: 1.3832 - val_accuracy: 0.3172\n",
      "Epoch 3/100\n",
      "119/119 [==============================] - 788s 7s/step - loss: 1.2783 - accuracy: 0.4228 - val_loss: 1.3696 - val_accuracy: 0.3487\n",
      "Epoch 4/100\n",
      "119/119 [==============================] - 788s 7s/step - loss: 1.2488 - accuracy: 0.4343 - val_loss: 1.3596 - val_accuracy: 0.3487\n",
      "Epoch 5/100\n",
      "119/119 [==============================] - 787s 7s/step - loss: 1.2181 - accuracy: 0.4548 - val_loss: 1.3424 - val_accuracy: 0.3445\n",
      "Epoch 6/100\n",
      "119/119 [==============================] - 788s 7s/step - loss: 1.1911 - accuracy: 0.4790 - val_loss: 1.3231 - val_accuracy: 0.3655\n",
      "Epoch 7/100\n",
      "119/119 [==============================] - 787s 7s/step - loss: 1.1753 - accuracy: 0.4895 - val_loss: 1.3070 - val_accuracy: 0.3929\n",
      "Epoch 8/100\n",
      "119/119 [==============================] - 788s 7s/step - loss: 1.1507 - accuracy: 0.4916 - val_loss: 1.3017 - val_accuracy: 0.3782\n",
      "Epoch 9/100\n",
      "119/119 [==============================] - 787s 7s/step - loss: 1.1402 - accuracy: 0.5089 - val_loss: 1.2738 - val_accuracy: 0.4202\n",
      "Epoch 10/100\n",
      "119/119 [==============================] - 787s 7s/step - loss: 1.1178 - accuracy: 0.5168 - val_loss: 1.2711 - val_accuracy: 0.4244\n",
      "Epoch 11/100\n",
      "119/119 [==============================] - 788s 7s/step - loss: 1.0977 - accuracy: 0.5378 - val_loss: 1.2682 - val_accuracy: 0.4118\n",
      "Epoch 12/100\n",
      "119/119 [==============================] - 787s 7s/step - loss: 1.0838 - accuracy: 0.5221 - val_loss: 1.2617 - val_accuracy: 0.4244\n",
      "Epoch 13/100\n",
      "119/119 [==============================] - 787s 7s/step - loss: 1.0751 - accuracy: 0.5383 - val_loss: 1.2555 - val_accuracy: 0.4160\n",
      "Epoch 14/100\n",
      "119/119 [==============================] - 787s 7s/step - loss: 1.0646 - accuracy: 0.5247 - val_loss: 1.2343 - val_accuracy: 0.4454\n",
      "Epoch 15/100\n",
      "119/119 [==============================] - 787s 7s/step - loss: 1.0549 - accuracy: 0.5399 - val_loss: 1.2333 - val_accuracy: 0.4538\n",
      "Epoch 16/100\n",
      "119/119 [==============================] - 786s 7s/step - loss: 1.0356 - accuracy: 0.5567 - val_loss: 1.2391 - val_accuracy: 0.4223\n",
      "Epoch 17/100\n",
      "119/119 [==============================] - 786s 7s/step - loss: 1.0436 - accuracy: 0.5499 - val_loss: 1.2463 - val_accuracy: 0.4223\n",
      "Epoch 18/100\n",
      "119/119 [==============================] - 786s 7s/step - loss: 1.0333 - accuracy: 0.5436 - val_loss: 1.2344 - val_accuracy: 0.4328\n",
      "Epoch 19/100\n",
      "119/119 [==============================] - 786s 7s/step - loss: 1.0223 - accuracy: 0.5614 - val_loss: 1.2371 - val_accuracy: 0.4454\n",
      "Epoch 20/100\n",
      "119/119 [==============================] - 787s 7s/step - loss: 1.0064 - accuracy: 0.5746 - val_loss: 1.2379 - val_accuracy: 0.4496\n",
      "Epoch 21/100\n",
      "119/119 [==============================] - 788s 7s/step - loss: 0.9951 - accuracy: 0.5741 - val_loss: 1.2126 - val_accuracy: 0.4475\n",
      "Epoch 22/100\n",
      "119/119 [==============================] - 787s 7s/step - loss: 1.0057 - accuracy: 0.5714 - val_loss: 1.2178 - val_accuracy: 0.4412\n",
      "Epoch 23/100\n",
      "119/119 [==============================] - 788s 7s/step - loss: 0.9933 - accuracy: 0.5814 - val_loss: 1.2193 - val_accuracy: 0.4286\n",
      "Epoch 24/100\n",
      "119/119 [==============================] - 795s 7s/step - loss: 0.9944 - accuracy: 0.5735 - val_loss: 1.2165 - val_accuracy: 0.4475\n",
      "Epoch 25/100\n",
      "119/119 [==============================] - 786s 7s/step - loss: 0.9791 - accuracy: 0.5909 - val_loss: 1.2047 - val_accuracy: 0.4727\n",
      "Epoch 26/100\n",
      "119/119 [==============================] - 786s 7s/step - loss: 0.9698 - accuracy: 0.5856 - val_loss: 1.2050 - val_accuracy: 0.4664\n",
      "Epoch 27/100\n",
      "119/119 [==============================] - 786s 7s/step - loss: 0.9768 - accuracy: 0.5814 - val_loss: 1.2064 - val_accuracy: 0.4517\n",
      "Epoch 28/100\n",
      "119/119 [==============================] - 786s 7s/step - loss: 0.9696 - accuracy: 0.5840 - val_loss: 1.2005 - val_accuracy: 0.4664\n",
      "Epoch 29/100\n",
      "119/119 [==============================] - 787s 7s/step - loss: 0.9563 - accuracy: 0.6014 - val_loss: 1.2096 - val_accuracy: 0.4475\n",
      "Epoch 30/100\n",
      "119/119 [==============================] - 787s 7s/step - loss: 0.9538 - accuracy: 0.6066 - val_loss: 1.1939 - val_accuracy: 0.4727\n",
      "Epoch 31/100\n",
      "119/119 [==============================] - 786s 7s/step - loss: 0.9549 - accuracy: 0.5972 - val_loss: 1.2050 - val_accuracy: 0.4622\n",
      "Epoch 32/100\n",
      "119/119 [==============================] - 787s 7s/step - loss: 0.9449 - accuracy: 0.5956 - val_loss: 1.1916 - val_accuracy: 0.4811\n",
      "Epoch 33/100\n",
      "119/119 [==============================] - 787s 7s/step - loss: 0.9399 - accuracy: 0.6119 - val_loss: 1.1917 - val_accuracy: 0.4706\n",
      "Epoch 34/100\n",
      "119/119 [==============================] - 787s 7s/step - loss: 0.9338 - accuracy: 0.5966 - val_loss: 1.2136 - val_accuracy: 0.4643\n",
      "Epoch 35/100\n",
      "119/119 [==============================] - 787s 7s/step - loss: 0.9289 - accuracy: 0.5998 - val_loss: 1.1844 - val_accuracy: 0.4622\n",
      "Epoch 36/100\n",
      "119/119 [==============================] - 787s 7s/step - loss: 0.9260 - accuracy: 0.6124 - val_loss: 1.2129 - val_accuracy: 0.4475\n",
      "Epoch 37/100\n",
      "119/119 [==============================] - 787s 7s/step - loss: 0.9208 - accuracy: 0.6035 - val_loss: 1.2059 - val_accuracy: 0.4538\n",
      "Epoch 38/100\n",
      "119/119 [==============================] - 787s 7s/step - loss: 0.9273 - accuracy: 0.6077 - val_loss: 1.1951 - val_accuracy: 0.4706\n",
      "Epoch 39/100\n",
      "119/119 [==============================] - 787s 7s/step - loss: 0.9174 - accuracy: 0.6140 - val_loss: 1.2004 - val_accuracy: 0.4475\n",
      "Epoch 40/100\n",
      "119/119 [==============================] - 788s 7s/step - loss: 0.9055 - accuracy: 0.6224 - val_loss: 1.1972 - val_accuracy: 0.4496\n",
      "Epoch 41/100\n",
      "119/119 [==============================] - 788s 7s/step - loss: 0.9091 - accuracy: 0.6218 - val_loss: 1.2088 - val_accuracy: 0.4601\n",
      "Epoch 42/100\n",
      "119/119 [==============================] - 788s 7s/step - loss: 0.8995 - accuracy: 0.6208 - val_loss: 1.1948 - val_accuracy: 0.4601\n",
      "Epoch 43/100\n",
      "119/119 [==============================] - 787s 7s/step - loss: 0.8921 - accuracy: 0.6208 - val_loss: 1.1927 - val_accuracy: 0.4811\n",
      "Epoch 44/100\n",
      "119/119 [==============================] - 787s 7s/step - loss: 0.8800 - accuracy: 0.6387 - val_loss: 1.2020 - val_accuracy: 0.4664\n",
      "Epoch 45/100\n",
      "119/119 [==============================] - 787s 7s/step - loss: 0.8879 - accuracy: 0.6229 - val_loss: 1.2006 - val_accuracy: 0.4622\n",
      "Epoch 46/100\n",
      "119/119 [==============================] - 787s 7s/step - loss: 0.8853 - accuracy: 0.6303 - val_loss: 1.2023 - val_accuracy: 0.4580\n",
      "Epoch 47/100\n",
      "119/119 [==============================] - 788s 7s/step - loss: 0.8725 - accuracy: 0.6292 - val_loss: 1.2022 - val_accuracy: 0.4559\n",
      "Epoch 48/100\n",
      "119/119 [==============================] - 788s 7s/step - loss: 0.8887 - accuracy: 0.6250 - val_loss: 1.2009 - val_accuracy: 0.4580\n",
      "Epoch 49/100\n",
      "119/119 [==============================] - 787s 7s/step - loss: 0.8658 - accuracy: 0.6397 - val_loss: 1.1912 - val_accuracy: 0.4706\n",
      "Epoch 50/100\n",
      "119/119 [==============================] - 787s 7s/step - loss: 0.8691 - accuracy: 0.6450 - val_loss: 1.2152 - val_accuracy: 0.4496\n",
      "Epoch 51/100\n",
      "119/119 [==============================] - 788s 7s/step - loss: 0.8605 - accuracy: 0.6392 - val_loss: 1.2027 - val_accuracy: 0.4580\n",
      "Epoch 52/100\n",
      "119/119 [==============================] - 795s 7s/step - loss: 0.8679 - accuracy: 0.6282 - val_loss: 1.1985 - val_accuracy: 0.4496\n",
      "Epoch 53/100\n",
      "119/119 [==============================] - 790s 7s/step - loss: 0.8522 - accuracy: 0.6497 - val_loss: 1.2002 - val_accuracy: 0.4580\n",
      "Epoch 54/100\n",
      "119/119 [==============================] - 791s 7s/step - loss: 0.8530 - accuracy: 0.6513 - val_loss: 1.1890 - val_accuracy: 0.4769\n",
      "Epoch 55/100\n",
      "119/119 [==============================] - 788s 7s/step - loss: 0.8527 - accuracy: 0.6476 - val_loss: 1.2049 - val_accuracy: 0.4559\n",
      "Epoch 56/100\n",
      "119/119 [==============================] - 788s 7s/step - loss: 0.8494 - accuracy: 0.6444 - val_loss: 1.2010 - val_accuracy: 0.4685\n",
      "Epoch 57/100\n"
     ]
    },
    {
     "name": "stdout",
     "output_type": "stream",
     "text": [
      "119/119 [==============================] - 787s 7s/step - loss: 0.8403 - accuracy: 0.6492 - val_loss: 1.1897 - val_accuracy: 0.4664\n",
      "Epoch 58/100\n",
      "119/119 [==============================] - 787s 7s/step - loss: 0.8201 - accuracy: 0.6696 - val_loss: 1.1835 - val_accuracy: 0.4727\n",
      "Epoch 59/100\n",
      "119/119 [==============================] - 787s 7s/step - loss: 0.8218 - accuracy: 0.6597 - val_loss: 1.1911 - val_accuracy: 0.4622\n",
      "Epoch 60/100\n",
      "119/119 [==============================] - 787s 7s/step - loss: 0.8301 - accuracy: 0.6539 - val_loss: 1.1998 - val_accuracy: 0.4538\n",
      "Epoch 61/100\n",
      "119/119 [==============================] - 788s 7s/step - loss: 0.8304 - accuracy: 0.6481 - val_loss: 1.2077 - val_accuracy: 0.4454\n",
      "Epoch 62/100\n",
      "119/119 [==============================] - 787s 7s/step - loss: 0.8198 - accuracy: 0.6544 - val_loss: 1.2080 - val_accuracy: 0.4601\n",
      "Epoch 63/100\n",
      "119/119 [==============================] - 787s 7s/step - loss: 0.8113 - accuracy: 0.6665 - val_loss: 1.1920 - val_accuracy: 0.4559\n",
      "Epoch 64/100\n",
      "119/119 [==============================] - 787s 7s/step - loss: 0.8101 - accuracy: 0.6754 - val_loss: 1.2098 - val_accuracy: 0.4643\n",
      "Epoch 65/100\n",
      "119/119 [==============================] - 788s 7s/step - loss: 0.8082 - accuracy: 0.6728 - val_loss: 1.2307 - val_accuracy: 0.4412\n",
      "Epoch 66/100\n",
      "119/119 [==============================] - 801s 7s/step - loss: 0.8058 - accuracy: 0.6796 - val_loss: 1.2140 - val_accuracy: 0.4475\n",
      "Epoch 67/100\n",
      "119/119 [==============================] - 788s 7s/step - loss: 0.7948 - accuracy: 0.6833 - val_loss: 1.2256 - val_accuracy: 0.4454\n",
      "Epoch 68/100\n",
      "119/119 [==============================] - 785s 7s/step - loss: 0.7824 - accuracy: 0.6854 - val_loss: 1.2102 - val_accuracy: 0.4706\n",
      "Epoch 69/100\n",
      "119/119 [==============================] - 797s 7s/step - loss: 0.7902 - accuracy: 0.6822 - val_loss: 1.2092 - val_accuracy: 0.4538\n",
      "Epoch 70/100\n",
      "119/119 [==============================] - 803s 7s/step - loss: 0.7789 - accuracy: 0.6822 - val_loss: 1.2131 - val_accuracy: 0.4559\n",
      "Epoch 71/100\n",
      "119/119 [==============================] - 786s 7s/step - loss: 0.7910 - accuracy: 0.6696 - val_loss: 1.2559 - val_accuracy: 0.4328\n",
      "Epoch 72/100\n",
      "119/119 [==============================] - 790s 7s/step - loss: 0.7656 - accuracy: 0.6907 - val_loss: 1.2336 - val_accuracy: 0.4496\n",
      "Epoch 73/100\n",
      "119/119 [==============================] - 792s 7s/step - loss: 0.7735 - accuracy: 0.6796 - val_loss: 1.2314 - val_accuracy: 0.4286\n",
      "Epoch 74/100\n",
      "119/119 [==============================] - 787s 7s/step - loss: 0.7725 - accuracy: 0.6938 - val_loss: 1.2270 - val_accuracy: 0.4475\n",
      "Epoch 75/100\n",
      "119/119 [==============================] - 788s 7s/step - loss: 0.7723 - accuracy: 0.6933 - val_loss: 1.2280 - val_accuracy: 0.4307\n",
      "Epoch 76/100\n",
      "119/119 [==============================] - 795s 7s/step - loss: 0.7646 - accuracy: 0.6901 - val_loss: 1.2022 - val_accuracy: 0.4748\n",
      "Epoch 77/100\n",
      "119/119 [==============================] - 791s 7s/step - loss: 0.7528 - accuracy: 0.6928 - val_loss: 1.2294 - val_accuracy: 0.4433\n",
      "Epoch 78/100\n",
      "119/119 [==============================] - 802s 7s/step - loss: 0.7552 - accuracy: 0.6943 - val_loss: 1.2164 - val_accuracy: 0.4601\n",
      "Epoch 79/100\n",
      "119/119 [==============================] - 795s 7s/step - loss: 0.7485 - accuracy: 0.6964 - val_loss: 1.2530 - val_accuracy: 0.4412\n",
      "Epoch 80/100\n",
      "119/119 [==============================] - 798s 7s/step - loss: 0.7430 - accuracy: 0.7017 - val_loss: 1.2244 - val_accuracy: 0.4559\n",
      "Epoch 81/100\n",
      "119/119 [==============================] - 795s 7s/step - loss: 0.7492 - accuracy: 0.7054 - val_loss: 1.2403 - val_accuracy: 0.4433\n",
      "Epoch 82/100\n",
      "119/119 [==============================] - 807s 7s/step - loss: 0.7335 - accuracy: 0.7012 - val_loss: 1.2530 - val_accuracy: 0.4454\n",
      "Epoch 83/100\n",
      "119/119 [==============================] - 801s 7s/step - loss: 0.7173 - accuracy: 0.7190 - val_loss: 1.2715 - val_accuracy: 0.4097\n",
      "Epoch 84/100\n",
      "119/119 [==============================] - 786s 7s/step - loss: 0.7279 - accuracy: 0.7085 - val_loss: 1.2232 - val_accuracy: 0.4643\n",
      "Epoch 85/100\n",
      "119/119 [==============================] - 796s 7s/step - loss: 0.7202 - accuracy: 0.7111 - val_loss: 1.2535 - val_accuracy: 0.4244\n",
      "Epoch 86/100\n",
      "119/119 [==============================] - 784s 7s/step - loss: 0.7348 - accuracy: 0.7085 - val_loss: 1.2679 - val_accuracy: 0.4118\n",
      "Epoch 87/100\n",
      "119/119 [==============================] - 784s 7s/step - loss: 0.7192 - accuracy: 0.7195 - val_loss: 1.2536 - val_accuracy: 0.4265\n",
      "Epoch 88/100\n",
      "119/119 [==============================] - 784s 7s/step - loss: 0.7140 - accuracy: 0.7185 - val_loss: 1.2622 - val_accuracy: 0.4202\n",
      "Epoch 89/100\n",
      "119/119 [==============================] - 784s 7s/step - loss: 0.7237 - accuracy: 0.7064 - val_loss: 1.2463 - val_accuracy: 0.4370\n",
      "Epoch 90/100\n",
      "119/119 [==============================] - 784s 7s/step - loss: 0.7084 - accuracy: 0.7174 - val_loss: 1.2542 - val_accuracy: 0.4370\n",
      "Epoch 91/100\n",
      "119/119 [==============================] - 785s 7s/step - loss: 0.7017 - accuracy: 0.7248 - val_loss: 1.2387 - val_accuracy: 0.4475\n",
      "Epoch 92/100\n",
      "119/119 [==============================] - 784s 7s/step - loss: 0.6979 - accuracy: 0.7174 - val_loss: 1.2992 - val_accuracy: 0.4055\n",
      "Epoch 93/100\n",
      "119/119 [==============================] - 785s 7s/step - loss: 0.6902 - accuracy: 0.7327 - val_loss: 1.2589 - val_accuracy: 0.4286\n",
      "Epoch 94/100\n",
      "119/119 [==============================] - 785s 7s/step - loss: 0.6816 - accuracy: 0.7369 - val_loss: 1.2596 - val_accuracy: 0.4307\n",
      "Epoch 95/100\n",
      "119/119 [==============================] - 784s 7s/step - loss: 0.6796 - accuracy: 0.7384 - val_loss: 1.3264 - val_accuracy: 0.4013\n",
      "Epoch 96/100\n",
      "119/119 [==============================] - 815s 7s/step - loss: 0.6774 - accuracy: 0.7411 - val_loss: 1.2782 - val_accuracy: 0.4328\n",
      "Epoch 97/100\n",
      "119/119 [==============================] - 818s 7s/step - loss: 0.6791 - accuracy: 0.7363 - val_loss: 1.2730 - val_accuracy: 0.4307\n",
      "Epoch 98/100\n",
      "119/119 [==============================] - 830s 7s/step - loss: 0.6692 - accuracy: 0.7316 - val_loss: 1.2880 - val_accuracy: 0.4328\n",
      "Epoch 99/100\n",
      "119/119 [==============================] - 826s 7s/step - loss: 0.6716 - accuracy: 0.7426 - val_loss: 1.2640 - val_accuracy: 0.4349\n",
      "Epoch 100/100\n",
      "119/119 [==============================] - 825s 7s/step - loss: 0.6654 - accuracy: 0.7432 - val_loss: 1.2666 - val_accuracy: 0.4223\n"
     ]
    }
   ],
   "source": [
    "model.compile(loss='categorical_crossentropy', optimizer=opt,metrics=['accuracy'])\n",
    "model_history=model.fit(X_train, y_train, batch_size=16, epochs=100, validation_data=(X_test, y_test))"
   ]
  },
  {
   "cell_type": "code",
   "execution_count": 114,
   "metadata": {},
   "outputs": [],
   "source": [
    "import matplotlib.pyplot as plt"
   ]
  },
  {
   "cell_type": "code",
   "execution_count": 115,
   "metadata": {},
   "outputs": [
    {
     "data": {
      "image/png": "[encoded data removed]",
      "text/plain": [
       "<Figure size 432x288 with 1 Axes>"
      ]
     },
     "metadata": {},
     "output_type": "display_data"
    }
   ],
   "source": [
    "plt.plot(model_history.history['accuracy'])\n",
    "plt.plot(model_history.history['val_accuracy'])\n",
    "plt.title('model accuracy')\n",
    "plt.ylabel('accuracy')\n",
    "plt.xlabel('epoch')\n",
    "plt.legend(['train', 'test'], loc='upper left')\n",
    "plt.show()"
   ]
  },
  {
   "cell_type": "code",
   "execution_count": 116,
   "metadata": {},
   "outputs": [
    {
     "data": {
      "image/png": "[encoded data removed]",
      "text/plain": [
       "<Figure size 432x288 with 1 Axes>"
      ]
     },
     "metadata": {},
     "output_type": "display_data"
    }
   ],
   "source": [
    "plt.plot(model_history.history['loss'])\n",
    "plt.plot(model_history.history['val_loss'])\n",
    "plt.title('model loss')\n",
    "plt.ylabel('loss')\n",
    "plt.xlabel('epoch')\n",
    "plt.legend(['train', 'test'], loc='upper left')\n",
    "plt.show()"
   ]
  },
  {
   "cell_type": "code",
   "execution_count": null,
   "metadata": {},
   "outputs": [],
   "source": []
  }
 ],
 "metadata": {
  "kernelspec": {
   "display_name": "venv",
   "language": "python",
   "name": "venv"
  },
  "language_info": {
   "codemirror_mode": {
    "name": "ipython",
    "version": 3
   },
   "file_extension": ".py",
   "mimetype": "text/x-python",
   "name": "python",
   "nbconvert_exporter": "python",
   "pygments_lexer": "ipython3",
   "version": "3.6.6"
  }
 },
 "nbformat": 4,
 "nbformat_minor": 2
}
